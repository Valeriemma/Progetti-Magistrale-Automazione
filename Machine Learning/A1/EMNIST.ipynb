{
 "cells": [
  {
   "cell_type": "markdown",
   "id": "f2b9f897-4bfc-4c19-94a7-605a57e2abbd",
   "metadata": {},
   "source": [
    "# Auriemma Valerio 0334683"
   ]
  },
  {
   "cell_type": "markdown",
   "id": "55d5d63f-de5d-4411-8ab3-3faefda4d1dd",
   "metadata": {
    "tags": []
   },
   "source": [
    "### Importazione delle librerie\n",
    "\n",
    "Questa cella di codice importa le librerie necessarie per il progetto di classificazione di Emnist. Ecco un riassunto di ciascuna libreria importata:\n",
    "\n",
    "- **tensorflow**: Utilizzato per costruire e addestrare reti neurali.\n",
    "- **numpy**: Fornisce supporto per operazioni matematiche efficienti su array.\n",
    "- **pandas**: Utilizzato per manipolare e analizzare dati tabulari.\n",
    "- **matplotlib**: Utilizzato per la visualizzazione dei dati.\n",
    "- **os**: Fornisce funzionalità per interagire con il sistema operativo.\n",
    "\n",
    "Inoltre, vengono importati diversi moduli da Keras, un'API di alto livello per la costruzione di modelli neurali:\n",
    "- **RandomNormal**, **he_normal**, **glorot_normal**: Inizializzatori per i pesi dei neuroni.\n",
    "- **Dropout**: Una tecnica di regolarizzazione per reti neurali.\n",
    "- **regularizers**: Utilizzato per applicare la regolarizzazione ai pesi dei modelli."
   ]
  },
  {
   "cell_type": "code",
   "execution_count": 1,
   "id": "e20137c7-5bf6-4fec-a38c-642b54e0e048",
   "metadata": {
    "tags": []
   },
   "outputs": [
    {
     "name": "stdout",
     "output_type": "stream",
     "text": [
      "WARNING:tensorflow:From C:\\Users\\lerio\\anaconda3\\Lib\\site-packages\\keras\\src\\losses.py:2976: The name tf.losses.sparse_softmax_cross_entropy is deprecated. Please use tf.compat.v1.losses.sparse_softmax_cross_entropy instead.\n",
      "\n"
     ]
    }
   ],
   "source": [
    "import tensorflow as tf\n",
    "from tensorflow import keras\n",
    "import numpy as np\n",
    "import pandas as pd\n",
    "import matplotlib as mpl\n",
    "import matplotlib.pyplot as plt\n",
    "import os\n",
    "\n",
    "from keras.initializers import RandomNormal\n",
    "from keras.initializers import he_normal\n",
    "from keras.initializers import glorot_normal\n",
    "\n",
    "from keras.layers import Dropout\n",
    "\n",
    "from keras import regularizers"
   ]
  },
  {
   "cell_type": "markdown",
   "id": "21ebf9a5-eed1-46a0-bb22-94a47cff6d2b",
   "metadata": {},
   "source": [
    "### Caricamento dei dati\n",
    "\n",
    "Carico i dati dal file \"emnist-letters.csv\" utilizzando Pandas e salvandoli in `df`.  "
   ]
  },
  {
   "cell_type": "code",
   "execution_count": 2,
   "id": "f1663698-d4af-49d1-9159-e1131939d64a",
   "metadata": {
    "tags": []
   },
   "outputs": [],
   "source": [
    "df = pd.read_csv(\"emnist-letters.csv\")\n",
    "X = df.iloc[:,1:].to_numpy().reshape(-1, 28, 28, order = \"F\")\n",
    "y = df.iloc[:,0].to_numpy()-1"
   ]
  },
  {
   "cell_type": "markdown",
   "id": "00d8970b-96d5-4c3a-8d29-ef546e3ead16",
   "metadata": {},
   "source": [
    "### Impostazione del seed per la riproducibilità e la configurazione della visualizzazione dei grafici\n",
    "\n",
    "Imposto il seed per generare numeri casuali, lo imposto per tutti e due i generatori:  \n",
    "\n",
    "- Generatore di NumPy\n",
    "- Generatore di TensorFlow\n",
    "\n",
    "Inoltre, stiamo configurando la visualizzazione dei grafici per renderli più leggibili e piacevoli:\n",
    "\n",
    "- `%matplotlib inline`: Questo comando magico di JupyterLab consente di visualizzare i grafici direttamente nel notebook.\n",
    "- `mpl.rc('axes', labelsize=14)`: Imposta la dimensione del testo dell'etichetta degli assi a 14."
   ]
  },
  {
   "cell_type": "code",
   "execution_count": 3,
   "id": "53991799-1e4e-42fd-a291-62ee070e848b",
   "metadata": {
    "tags": []
   },
   "outputs": [],
   "source": [
    "# Imposto il seed per generare codice casuale\n",
    "np.random.seed(42)\n",
    "tf.random.set_seed(42)\n",
    "# To plot pretty figures\n",
    "%matplotlib inline\n",
    "\n",
    "mpl.rc('axes', labelsize = 14)"
   ]
  },
  {
   "cell_type": "code",
   "execution_count": 4,
   "id": "1ce60c3f-3c63-4154-86d0-6f0a9315fed2",
   "metadata": {
    "tags": []
   },
   "outputs": [
    {
     "data": {
      "text/plain": [
       "(88799, 28, 28)"
      ]
     },
     "execution_count": 4,
     "metadata": {},
     "output_type": "execute_result"
    }
   ],
   "source": [
    "X.shape"
   ]
  },
  {
   "cell_type": "markdown",
   "id": "8bc32646-628a-468a-8a89-fe49a77ec4c5",
   "metadata": {},
   "source": [
    "- La prima dimensione rappresenta il numero totale di immagini nel dataset.\n",
    "- Le dimensioni successive rappresentano l'altezza e la larghezza di ciascuna immagine, rispettivamente."
   ]
  },
  {
   "cell_type": "markdown",
   "id": "7025a536-3690-4416-abe7-188283c8f5d7",
   "metadata": {},
   "source": [
    "\n",
    "### Preparazione dei Dati di Addestramento, Validazione e Test\n",
    "\n",
    "In questa cella di codice, stiamo preparando i dati per l'addestramento, la validazione e il test del modello. Ecco come:\n",
    "\n",
    "- **Training Set** = 81799 campioni\n",
    "- **Validation Set** = 5000 campioni\n",
    "- **Test Set** = 2000 campioni"
   ]
  },
  {
   "cell_type": "code",
   "execution_count": 5,
   "id": "b522fb42-77da-4f59-8489-ca5fca656a78",
   "metadata": {},
   "outputs": [],
   "source": [
    "X_test, X_valid, X_train = X[:2000] / 255., X[2000:7000]/255., X[7000:] / 255.\n",
    "y_test, y_valid, y_train = y[:2000], y[2000:7000], y[7000:]\n",
    "\n",
    "# Aggiungi rumore gaussiano ai dati\n",
    "noise = np.random.normal(0, 0.2, X_train.shape)  # Genera rumore gaussiano\n",
    "X_train_wnoise =  X_train + noise  # Aggiungi rumore ai dati"
   ]
  },
  {
   "cell_type": "markdown",
   "id": "f3e842a6-130d-47d8-9f1b-5bec51f6febc",
   "metadata": {
    "tags": []
   },
   "source": [
    "plt.imshow(X_train[0], cmap = \"binary\")\n",
    "plt.axis('on')\n",
    "plt.show()"
   ]
  },
  {
   "cell_type": "markdown",
   "id": "5ffbbfb4-57d9-40b8-ae4a-0949c822ceed",
   "metadata": {
    "tags": []
   },
   "source": [
    "# Reti Neurali Completamente Connesse  \n",
    "Ora andiamo a lavorare con le reti con soli strati densi, sappiamo che questo lavoro non è ottimale per la loro struttura ma proveremo ad analizzare più di qualche aspetto studiato durante il corso.\n",
    "## Test con EarlyStopping\n",
    " Andiamo a fare i primi test per poter estrapolare da essi le scelte sulle reti che possano essere significative. Sono stati fatte delle scelte su di essi:  \n",
    "- In questi primi test la rete è stata addestrata finché l'algoritmo di EarlyStopping (tolleranza = 12) non andava ad arrestare l'algoritmo;\n",
    "- Non sono stati utilizzati altri metodi di regolarizzazione dato che ritenuto sufficiente la prevenzione sull'overfitting da parte di EarlyStopping;\n",
    "- Data la presenza dell'EarlyStopping il codice è stato fatto girare con un numero di epoche molto alto dato che l'obiettivo è che si arrestasse solo e solamente con EarlyStopping;\n",
    "\n",
    "\n",
    "|           | Strati |    Neuroni     | Foo. attivazioni      |     Epoche    | Init.Pesi | Ottimizzazione | Regolarizzazione | AccVld | AccTst|\n",
    "|-----------|--------|----------------|-----------------------|---------------|-----------|----------------|------------------|--------|-------|\n",
    "| **1°Test**|   3    | {300, 100, 26} | {ReLU, ReLU, softmax} | EarlyStopping |     He    |     Adam       |       -          | 90.3%  |89.4%  |\n",
    "| **2°Test**|   3    | {300, 100, 26} | {sigm, sigm, softmax} | EarlyStopping |     He    |     Adam       |       -          | 90.8%  |89.0%  |\n",
    "| **3°Test**|   3    | {300, 100, 26} | {ReLU, ReLU, softmax} | EarlyStopping |     He    |      SGD       |       -          | 90.2%  |89.6%  |\n",
    "| **4°Test**|   3    | {300, 100, 26} | {ReLU, ReLU, softmax} | EarlyStopping |   Glorot  |     Adam       |       -          | 90.7%  |90.4%  |\n",
    "| **5°Test**|   3    | {300, 100, 26} | {sigm, sigm, softmax} | EarlyStopping |   Glorot  |     SGD        |       -          | 89.8%  |88.1%  |\n",
    "| **6°Test**|   4    |{450,230,75,26} |{ReLU,ReLU,ReLU,softmax}| EarlyStopping |     He    |     Adam       |       -          | 89.6%  |89.5% |  \n",
    "\n",
    "Notiamo che l'unica scelta significativa tra tutti i test che sono stati fatti è quella nel 4°Test andando a fare la scelta di inizializzazione dei pesi da He a Glorot.  \n",
    "Un altra nota importante da fare è sul 5°Test, l'algoritmo è stato bloccato alla 100esima epoca (fissata come massima) di addestramento, EarlyStopping non è riuscito a convergere.\n",
    "\n",
    "## Senza EarlyStopping\n",
    "Adesso andremo a cambiare le tecniche di regolarizzazione per vedere come possono influenzare le performance della rete:\n",
    "- Qui andiamo a cambiare i dati riguardanti la penultima colonna ovvero metteremo a confontro l'accuratezza del TrainingSet con quella del ValidationSet al variare dei vari metodi di regolarizzazione.\n",
    "- L'addestramento con la NoiseInjection è stato fatto sul TrainingSet originale ma aggiungendo un rumore Gaussiano con media = 0 e varianza = 0.2;\n",
    "- Il dropout è stato applicato con una probabilità del 80% sullo strato d'ingresso e con il 50% sugli strati nascosti nel 5° test mentre con una probabilita del 40% sullo strato d'ingresso e 20% sugli strati nascosti nel 6°test.\n",
    "\n",
    "|           | Strati |    Neuroni     | Foo. attivazioni        |     Epoche  | Init.Pesi | Ottimizzazione | Regolarizzazione | AccTrn | AccTst|\n",
    "|-----------|--------|----------------|-------------------------|-------------|-----------|----------------|------------------|--------|-------|\n",
    "| **1°Test**|   4    |{450,250,100,26}|{ReLU,ReLU,ReLU,softmax} |      30     |     He    |     SGD        |       -          | 96.8%  |88.3%  |\n",
    "| **2°Test**|   4    |{450,250,100,26}|{ReLU,ReLU,ReLU,softmax} |      30     |     He    |     SGD        |    L2(0.001)     | 92.5%  |88.9%  |\n",
    "| **3°Test**|   4    |{450,250,100,26}|{ReLU,ReLU,ReLU,softmax} |      30     |     He    |     SGD        |    L2(0.01)      | 76.7%  |74.7%  |\n",
    "| **4°Test**|   4    |{450,250,100,26}|{ReLU,ReLU,ReLU,softmax} |      30     |     He    |     SGD        |NoiseInj(gauss0.2)| 99.8%  |89.3%  |\n",
    "| **5°Test**|   4    |{450,250,100,26}|{ReLU,ReLU,ReLU,softmax} |      30     |     He    |     SGD        |Dropout (0.8, 0.5)| 50.4%  |69.9%  |\n",
    "| **6°Test**|   4    |{450,250,100,26}|{ReLU,ReLU,ReLU,softmax} |      30     |     He    |     SGD        |Dropout (0.4, 0.2)| 84.6%  |89.6%  |\n",
    "\n",
    "Si noti come il miglior risultato ottenuto è stato ottenuto andando ad utilizzare la NoiseInjection e il dropout.  \n",
    "Il dropout con le percentuali indicate dal testo di riferimento (0.8 e 0.5) si è rivelato troppo aggressivo nei confronti della rete, andando a causare il fenomento di underfitting.\n",
    "L'utilizzo di metodi di regolarizzazione porta all'introduzione di uno o più hyperparametri, di cui tuning errato porta a underfitting della rete.\n",
    "\n",
    "- **N.B!** Tali metodi di regolarizzazione possono essere utilizzati anche insieme, ciò però comporta ad una maggiore attenzione nel tuning dei multipli hyperparametri caratterizzanti i metodi stessi.\n"
   ]
  },
  {
   "cell_type": "code",
   "execution_count": 6,
   "id": "22e8ffee-2229-4e9a-90c0-44ae74b0186b",
   "metadata": {
    "tags": []
   },
   "outputs": [
    {
     "name": "stdout",
     "output_type": "stream",
     "text": [
      "WARNING:tensorflow:From C:\\Users\\lerio\\anaconda3\\Lib\\site-packages\\keras\\src\\backend.py:873: The name tf.get_default_graph is deprecated. Please use tf.compat.v1.get_default_graph instead.\n",
      "\n"
     ]
    }
   ],
   "source": [
    "# kernel_initializer = he_normal()\n",
    "# kernel_initializer = glorot_normal()\n",
    "# kernel_initializer = RandomNormal(mean=0.0, stddev=0.01)\n",
    "\n",
    "# Nota la regolarizzazione mi porta ad un risultato peggiore che senza\n",
    "\n",
    "# Ho uno strato di Input di 784, cerco di costruire un qualcosa ad imbuto\n",
    "\n",
    "NN1 = keras.models.Sequential([\n",
    "        tf.keras.layers.Flatten(input_shape = (28, 28, 1)),\n",
    "        tf.keras.layers.Dense(300, activation = \"relu\", kernel_regularizer=regularizers.l2(0.00), kernel_initializer = glorot_normal()),\n",
    "        tf.keras.layers.Dense(100, activation = \"relu\", kernel_regularizer=regularizers.l2(0.00), kernel_initializer = glorot_normal()),\n",
    "        tf.keras.layers.Dense(26, activation = \"softmax\", kernel_regularizer=regularizers.l2(0.00), kernel_initializer = glorot_normal()),\n",
    "])"
   ]
  },
  {
   "cell_type": "code",
   "execution_count": 93,
   "id": "0e88c4bb-7454-4ac8-ab58-12cd58352ed8",
   "metadata": {
    "tags": []
   },
   "outputs": [
    {
     "name": "stdout",
     "output_type": "stream",
     "text": [
      "Model: \"sequential_17\"\n",
      "_________________________________________________________________\n",
      " Layer (type)                Output Shape              Param #   \n",
      "=================================================================\n",
      " flatten_17 (Flatten)        (None, 784)               0         \n",
      "                                                                 \n",
      " dense_56 (Dense)            (None, 450)               353250    \n",
      "                                                                 \n",
      " dense_57 (Dense)            (None, 250)               112750    \n",
      "                                                                 \n",
      " dense_58 (Dense)            (None, 100)               25100     \n",
      "                                                                 \n",
      " dense_59 (Dense)            (None, 26)                2626      \n",
      "                                                                 \n",
      "=================================================================\n",
      "Total params: 493726 (1.88 MB)\n",
      "Trainable params: 493726 (1.88 MB)\n",
      "Non-trainable params: 0 (0.00 Byte)\n",
      "_________________________________________________________________\n"
     ]
    }
   ],
   "source": [
    "NN1.summary()"
   ]
  },
  {
   "cell_type": "code",
   "execution_count": 7,
   "id": "f2029215-fb60-4d3c-b7b4-c2ec632c8c18",
   "metadata": {
    "tags": []
   },
   "outputs": [
    {
     "name": "stdout",
     "output_type": "stream",
     "text": [
      "WARNING:tensorflow:From C:\\Users\\lerio\\anaconda3\\Lib\\site-packages\\keras\\src\\optimizers\\__init__.py:309: The name tf.train.Optimizer is deprecated. Please use tf.compat.v1.train.Optimizer instead.\n",
      "\n"
     ]
    }
   ],
   "source": [
    "NN1.compile(loss=\"sparse_categorical_crossentropy\",\n",
    "              optimizer=\"adam\",\n",
    "              metrics=[\"accuracy\"])"
   ]
  },
  {
   "cell_type": "code",
   "execution_count": 9,
   "id": "40d21065-b9e6-40c1-a99d-de9c5f1dbea2",
   "metadata": {
    "tags": []
   },
   "outputs": [
    {
     "name": "stdout",
     "output_type": "stream",
     "text": [
      "Epoch 1/100\n",
      "2557/2557 [==============================] - 6s 2ms/step - loss: 0.2846 - accuracy: 0.9052 - val_loss: 0.3125 - val_accuracy: 0.8992\n",
      "Epoch 2/100\n",
      "2557/2557 [==============================] - 5s 2ms/step - loss: 0.2409 - accuracy: 0.9172 - val_loss: 0.3155 - val_accuracy: 0.9048\n",
      "Epoch 3/100\n",
      "2557/2557 [==============================] - 5s 2ms/step - loss: 0.2140 - accuracy: 0.9254 - val_loss: 0.3039 - val_accuracy: 0.9044\n",
      "Epoch 4/100\n",
      "2557/2557 [==============================] - 6s 2ms/step - loss: 0.1924 - accuracy: 0.9318 - val_loss: 0.3010 - val_accuracy: 0.9074\n",
      "Epoch 5/100\n",
      "2557/2557 [==============================] - 5s 2ms/step - loss: 0.1757 - accuracy: 0.9359 - val_loss: 0.3374 - val_accuracy: 0.9044\n",
      "Epoch 6/100\n",
      "2557/2557 [==============================] - 6s 2ms/step - loss: 0.1587 - accuracy: 0.9407 - val_loss: 0.3483 - val_accuracy: 0.9052\n",
      "Epoch 7/100\n",
      "2557/2557 [==============================] - 6s 2ms/step - loss: 0.1486 - accuracy: 0.9441 - val_loss: 0.3488 - val_accuracy: 0.9084\n",
      "Epoch 8/100\n",
      "2557/2557 [==============================] - 6s 2ms/step - loss: 0.1386 - accuracy: 0.9472 - val_loss: 0.3659 - val_accuracy: 0.9018\n",
      "Epoch 9/100\n",
      "2557/2557 [==============================] - 6s 2ms/step - loss: 0.1303 - accuracy: 0.9497 - val_loss: 0.3885 - val_accuracy: 0.9002\n",
      "Epoch 10/100\n",
      "2557/2557 [==============================] - 5s 2ms/step - loss: 0.1242 - accuracy: 0.9522 - val_loss: 0.3636 - val_accuracy: 0.9058\n",
      "Epoch 11/100\n",
      "2557/2557 [==============================] - 6s 2ms/step - loss: 0.1170 - accuracy: 0.9548 - val_loss: 0.4004 - val_accuracy: 0.9082\n",
      "Epoch 12/100\n",
      "2557/2557 [==============================] - 6s 2ms/step - loss: 0.1104 - accuracy: 0.9560 - val_loss: 0.4066 - val_accuracy: 0.9084\n",
      "Epoch 13/100\n",
      "2557/2557 [==============================] - 6s 2ms/step - loss: 0.1076 - accuracy: 0.9578 - val_loss: 0.4384 - val_accuracy: 0.9060\n",
      "Epoch 14/100\n",
      "2557/2557 [==============================] - 6s 2ms/step - loss: 0.1036 - accuracy: 0.9591 - val_loss: 0.4603 - val_accuracy: 0.8988\n",
      "Epoch 15/100\n",
      "2557/2557 [==============================] - 6s 2ms/step - loss: 0.0991 - accuracy: 0.9609 - val_loss: 0.4702 - val_accuracy: 0.9054\n",
      "Epoch 16/100\n",
      "2557/2557 [==============================] - 5s 2ms/step - loss: 0.0982 - accuracy: 0.9610 - val_loss: 0.4856 - val_accuracy: 0.9024\n"
     ]
    }
   ],
   "source": [
    "history = NN1.fit(X_train, y_train, epochs = 100,\n",
    "                    validation_data=(X_valid, y_valid),\n",
    "                   callbacks=[keras.callbacks.EarlyStopping(patience=12)])\n",
    "\n",
    "#history = NN1.fit(X_train, y_train, epochs = 30,\n",
    "#                    validation_data=(X_valid, y_valid))"
   ]
  },
  {
   "cell_type": "code",
   "execution_count": 10,
   "id": "690546ac-ab38-436d-aef1-98d47fcfd178",
   "metadata": {
    "tags": []
   },
   "outputs": [
    {
     "name": "stdout",
     "output_type": "stream",
     "text": [
      "63/63 [==============================] - 0s 2ms/step - loss: 0.4962 - accuracy: 0.9045\n",
      "Test Loss: 0.4962226450443268\n",
      "Test Accuracy: 0.9045000076293945\n"
     ]
    }
   ],
   "source": [
    "test_loss, test_accuracy = NN1.evaluate(X_test, y_test)\n",
    "print(\"Test Loss:\", test_loss)\n",
    "print(\"Test Accuracy:\", test_accuracy)"
   ]
  },
  {
   "cell_type": "code",
   "execution_count": 11,
   "id": "8ae98871-176f-4447-80f9-8dd8aa3fec78",
   "metadata": {
    "tags": []
   },
   "outputs": [
    {
     "data": {
      "image/png": "[encoded data removed]",
      "text/plain": [
       "<Figure size 800x500 with 1 Axes>"
      ]
     },
     "metadata": {},
     "output_type": "display_data"
    }
   ],
   "source": [
    "pd.DataFrame(history.history).plot(figsize=(8, 5))\n",
    "plt.grid(True)\n",
    "plt.gca().set_ylim(0, 1)\n",
    "plt.show()"
   ]
  },
  {
   "cell_type": "markdown",
   "id": "934cfe4d-e904-46ac-a3a5-2495d0b5770f",
   "metadata": {},
   "source": [
    "### Noise Injection"
   ]
  },
  {
   "cell_type": "code",
   "execution_count": 95,
   "id": "ba3932cb-b63a-495a-8923-41f9f4ea2acf",
   "metadata": {
    "tags": []
   },
   "outputs": [
    {
     "name": "stdout",
     "output_type": "stream",
     "text": [
      "Epoch 1/30\n",
      "2557/2557 [==============================] - 6s 2ms/step - loss: 1.4482 - accuracy: 0.5825 - val_loss: 0.9453 - val_accuracy: 0.7056\n",
      "Epoch 2/30\n",
      "2557/2557 [==============================] - 5s 2ms/step - loss: 0.8305 - accuracy: 0.7512 - val_loss: 0.6364 - val_accuracy: 0.8092\n",
      "Epoch 3/30\n",
      "2557/2557 [==============================] - 5s 2ms/step - loss: 0.6450 - accuracy: 0.8037 - val_loss: 0.5396 - val_accuracy: 0.8364\n",
      "Epoch 4/30\n",
      "2557/2557 [==============================] - 5s 2ms/step - loss: 0.5363 - accuracy: 0.8356 - val_loss: 0.4557 - val_accuracy: 0.8578\n",
      "Epoch 5/30\n",
      "2557/2557 [==============================] - 5s 2ms/step - loss: 0.4631 - accuracy: 0.8571 - val_loss: 0.4554 - val_accuracy: 0.8578\n",
      "Epoch 6/30\n",
      "2557/2557 [==============================] - 5s 2ms/step - loss: 0.4074 - accuracy: 0.8721 - val_loss: 0.3965 - val_accuracy: 0.8736\n",
      "Epoch 7/30\n",
      "2557/2557 [==============================] - 5s 2ms/step - loss: 0.3616 - accuracy: 0.8867 - val_loss: 0.3939 - val_accuracy: 0.8748\n",
      "Epoch 8/30\n",
      "2557/2557 [==============================] - 5s 2ms/step - loss: 0.3254 - accuracy: 0.8977 - val_loss: 0.3995 - val_accuracy: 0.8684\n",
      "Epoch 9/30\n",
      "2557/2557 [==============================] - 5s 2ms/step - loss: 0.2937 - accuracy: 0.9075 - val_loss: 0.3550 - val_accuracy: 0.8844\n",
      "Epoch 10/30\n",
      "2557/2557 [==============================] - 5s 2ms/step - loss: 0.2648 - accuracy: 0.9177 - val_loss: 0.3336 - val_accuracy: 0.8934\n",
      "Epoch 11/30\n",
      "2557/2557 [==============================] - 5s 2ms/step - loss: 0.2400 - accuracy: 0.9240 - val_loss: 0.3385 - val_accuracy: 0.8910\n",
      "Epoch 12/30\n",
      "2557/2557 [==============================] - 5s 2ms/step - loss: 0.2155 - accuracy: 0.9326 - val_loss: 0.3394 - val_accuracy: 0.8924\n",
      "Epoch 13/30\n",
      "2557/2557 [==============================] - 5s 2ms/step - loss: 0.1942 - accuracy: 0.9388 - val_loss: 0.3481 - val_accuracy: 0.8882\n",
      "Epoch 14/30\n",
      "2557/2557 [==============================] - 5s 2ms/step - loss: 0.1745 - accuracy: 0.9467 - val_loss: 0.3406 - val_accuracy: 0.8894\n",
      "Epoch 15/30\n",
      "2557/2557 [==============================] - 5s 2ms/step - loss: 0.1571 - accuracy: 0.9527 - val_loss: 0.3214 - val_accuracy: 0.9012\n",
      "Epoch 16/30\n",
      "2557/2557 [==============================] - 5s 2ms/step - loss: 0.1389 - accuracy: 0.9586 - val_loss: 0.3318 - val_accuracy: 0.8986\n",
      "Epoch 17/30\n",
      "2557/2557 [==============================] - 5s 2ms/step - loss: 0.1233 - accuracy: 0.9644 - val_loss: 0.3259 - val_accuracy: 0.9026\n",
      "Epoch 18/30\n",
      "2557/2557 [==============================] - 5s 2ms/step - loss: 0.1090 - accuracy: 0.9701 - val_loss: 0.3332 - val_accuracy: 0.8998\n",
      "Epoch 19/30\n",
      "2557/2557 [==============================] - 5s 2ms/step - loss: 0.0962 - accuracy: 0.9741 - val_loss: 0.4462 - val_accuracy: 0.8808\n",
      "Epoch 20/30\n",
      "2557/2557 [==============================] - 5s 2ms/step - loss: 0.0840 - accuracy: 0.9785 - val_loss: 0.3317 - val_accuracy: 0.9004\n",
      "Epoch 21/30\n",
      "2557/2557 [==============================] - 5s 2ms/step - loss: 0.0731 - accuracy: 0.9822 - val_loss: 0.3305 - val_accuracy: 0.9092\n",
      "Epoch 22/30\n",
      "2557/2557 [==============================] - 5s 2ms/step - loss: 0.0636 - accuracy: 0.9854 - val_loss: 0.3522 - val_accuracy: 0.9000\n",
      "Epoch 23/30\n",
      "2557/2557 [==============================] - 5s 2ms/step - loss: 0.0555 - accuracy: 0.9878 - val_loss: 0.3517 - val_accuracy: 0.9030\n",
      "Epoch 24/30\n",
      "2557/2557 [==============================] - 5s 2ms/step - loss: 0.0479 - accuracy: 0.9904 - val_loss: 0.4087 - val_accuracy: 0.8892\n",
      "Epoch 25/30\n",
      "2557/2557 [==============================] - 5s 2ms/step - loss: 0.0414 - accuracy: 0.9922 - val_loss: 0.3546 - val_accuracy: 0.9054\n",
      "Epoch 26/30\n",
      "2557/2557 [==============================] - 5s 2ms/step - loss: 0.0354 - accuracy: 0.9943 - val_loss: 0.3618 - val_accuracy: 0.9038\n",
      "Epoch 27/30\n",
      "2557/2557 [==============================] - 5s 2ms/step - loss: 0.0303 - accuracy: 0.9957 - val_loss: 0.3780 - val_accuracy: 0.9046\n",
      "Epoch 28/30\n",
      "2557/2557 [==============================] - 5s 2ms/step - loss: 0.0264 - accuracy: 0.9964 - val_loss: 0.3701 - val_accuracy: 0.9070\n",
      "Epoch 29/30\n",
      "2557/2557 [==============================] - 5s 2ms/step - loss: 0.0224 - accuracy: 0.9974 - val_loss: 0.3811 - val_accuracy: 0.9042\n",
      "Epoch 30/30\n",
      "2557/2557 [==============================] - 5s 2ms/step - loss: 0.0192 - accuracy: 0.9982 - val_loss: 0.3801 - val_accuracy: 0.9074\n"
     ]
    }
   ],
   "source": [
    "history_wnoise = NN1.fit(X_train_wnoise, y_train, epochs = 30,\n",
    "                    validation_data = (X_valid, y_valid))"
   ]
  },
  {
   "cell_type": "code",
   "execution_count": 96,
   "id": "73f30a96-6401-4873-ac44-65eb82e22e6b",
   "metadata": {
    "tags": []
   },
   "outputs": [
    {
     "name": "stdout",
     "output_type": "stream",
     "text": [
      "63/63 [==============================] - 0s 1ms/step - loss: 0.4275 - accuracy: 0.8940\n",
      "Test Loss: 0.4274803400039673\n",
      "Test Accuracy: 0.8939999938011169\n"
     ]
    }
   ],
   "source": [
    "test_loss, test_accuracy = NN1.evaluate(X_test, y_test)\n",
    "print(\"Test Loss:\", test_loss)\n",
    "print(\"Test Accuracy:\", test_accuracy)"
   ]
  },
  {
   "cell_type": "code",
   "execution_count": 160,
   "id": "114c19d8-0513-407c-ae96-a68d7e2c5565",
   "metadata": {
    "tags": []
   },
   "outputs": [
    {
     "data": {
      "image/png": "[encoded data removed]",
      "text/plain": [
       "<Figure size 800x500 with 1 Axes>"
      ]
     },
     "metadata": {},
     "output_type": "display_data"
    }
   ],
   "source": [
    "pd.DataFrame(history_wnoise.history).plot(figsize=(8, 5))\n",
    "plt.grid(True)\n",
    "plt.gca().set_ylim(0, 1)\n",
    "plt.show()"
   ]
  },
  {
   "cell_type": "markdown",
   "id": "beed58de-c496-4d8d-8c7c-5c5b8306652b",
   "metadata": {},
   "source": [
    "### Dropout"
   ]
  },
  {
   "cell_type": "code",
   "execution_count": 104,
   "id": "1785a8a2-ec6d-4dc6-8add-43398067111a",
   "metadata": {
    "tags": []
   },
   "outputs": [],
   "source": [
    "NN_drop = keras.models.Sequential([\n",
    "        tf.keras.layers.Flatten(input_shape = (28, 28, 1)),\n",
    "        Dropout(0.4),  # Applico il dropout all' 80%\n",
    "        tf.keras.layers.Dense(450, activation = \"relu\", kernel_initializer = he_normal()),\n",
    "        Dropout(0.2),  # Applica dropout al 50%\n",
    "        tf.keras.layers.Dense(250, activation = \"relu\", kernel_initializer = he_normal()),\n",
    "        Dropout(0.2),  # Applica dropout al 50%\n",
    "        tf.keras.layers.Dense(100, activation = \"relu\", kernel_initializer = he_normal()),\n",
    "        Dropout(0.2),  # Applica dropout al 50%\n",
    "        tf.keras.layers.Dense(26, activation = \"softmax\", kernel_initializer = he_normal()),\n",
    "])"
   ]
  },
  {
   "cell_type": "code",
   "execution_count": 105,
   "id": "408561ad-6d9a-468a-848e-724ade449ce2",
   "metadata": {
    "tags": []
   },
   "outputs": [],
   "source": [
    "NN_drop.compile(loss = \"sparse_categorical_crossentropy\",\n",
    "              optimizer = \"SGD\",\n",
    "              metrics = [\"accuracy\"])"
   ]
  },
  {
   "cell_type": "code",
   "execution_count": 106,
   "id": "f12699a9-53c6-4163-b12d-a7730de667a8",
   "metadata": {
    "tags": []
   },
   "outputs": [
    {
     "name": "stdout",
     "output_type": "stream",
     "text": [
      "Epoch 1/30\n",
      "2557/2557 [==============================] - 8s 3ms/step - loss: 2.1250 - accuracy: 0.3695 - val_loss: 1.1653 - val_accuracy: 0.6572\n",
      "Epoch 2/30\n",
      "2557/2557 [==============================] - 7s 3ms/step - loss: 1.4031 - accuracy: 0.5719 - val_loss: 0.8883 - val_accuracy: 0.7340\n",
      "Epoch 3/30\n",
      "2557/2557 [==============================] - 7s 3ms/step - loss: 1.1812 - accuracy: 0.6350 - val_loss: 0.7377 - val_accuracy: 0.7798\n",
      "Epoch 4/30\n",
      "2557/2557 [==============================] - 7s 3ms/step - loss: 1.0397 - accuracy: 0.6784 - val_loss: 0.6406 - val_accuracy: 0.8094\n",
      "Epoch 5/30\n",
      "2557/2557 [==============================] - 7s 3ms/step - loss: 0.9515 - accuracy: 0.7042 - val_loss: 0.5795 - val_accuracy: 0.8280\n",
      "Epoch 6/30\n",
      "2557/2557 [==============================] - 7s 3ms/step - loss: 0.8861 - accuracy: 0.7246 - val_loss: 0.5354 - val_accuracy: 0.8388\n",
      "Epoch 7/30\n",
      "2557/2557 [==============================] - 7s 3ms/step - loss: 0.8353 - accuracy: 0.7391 - val_loss: 0.4966 - val_accuracy: 0.8482\n",
      "Epoch 8/30\n",
      "2557/2557 [==============================] - 7s 3ms/step - loss: 0.7866 - accuracy: 0.7541 - val_loss: 0.4702 - val_accuracy: 0.8542\n",
      "Epoch 9/30\n",
      "2557/2557 [==============================] - 7s 3ms/step - loss: 0.7530 - accuracy: 0.7634 - val_loss: 0.4467 - val_accuracy: 0.8616\n",
      "Epoch 10/30\n",
      "2557/2557 [==============================] - 7s 3ms/step - loss: 0.7236 - accuracy: 0.7720 - val_loss: 0.4322 - val_accuracy: 0.8638\n",
      "Epoch 11/30\n",
      "2557/2557 [==============================] - 7s 3ms/step - loss: 0.6972 - accuracy: 0.7803 - val_loss: 0.4180 - val_accuracy: 0.8690\n",
      "Epoch 12/30\n",
      "2557/2557 [==============================] - 7s 3ms/step - loss: 0.6689 - accuracy: 0.7879 - val_loss: 0.3998 - val_accuracy: 0.8718\n",
      "Epoch 13/30\n",
      "2557/2557 [==============================] - 8s 3ms/step - loss: 0.6496 - accuracy: 0.7939 - val_loss: 0.3906 - val_accuracy: 0.8778\n",
      "Epoch 14/30\n",
      "2557/2557 [==============================] - 8s 3ms/step - loss: 0.6311 - accuracy: 0.8001 - val_loss: 0.3774 - val_accuracy: 0.8802\n",
      "Epoch 15/30\n",
      "2557/2557 [==============================] - 8s 3ms/step - loss: 0.6173 - accuracy: 0.8031 - val_loss: 0.3645 - val_accuracy: 0.8806\n",
      "Epoch 16/30\n",
      "2557/2557 [==============================] - 7s 3ms/step - loss: 0.6010 - accuracy: 0.8093 - val_loss: 0.3542 - val_accuracy: 0.8868\n",
      "Epoch 17/30\n",
      "2557/2557 [==============================] - 7s 3ms/step - loss: 0.5888 - accuracy: 0.8116 - val_loss: 0.3461 - val_accuracy: 0.8898\n",
      "Epoch 18/30\n",
      "2557/2557 [==============================] - 7s 3ms/step - loss: 0.5763 - accuracy: 0.8170 - val_loss: 0.3395 - val_accuracy: 0.8892\n",
      "Epoch 19/30\n",
      "2557/2557 [==============================] - 7s 3ms/step - loss: 0.5613 - accuracy: 0.8194 - val_loss: 0.3350 - val_accuracy: 0.8898\n",
      "Epoch 20/30\n",
      "2557/2557 [==============================] - 7s 3ms/step - loss: 0.5528 - accuracy: 0.8228 - val_loss: 0.3278 - val_accuracy: 0.8916\n",
      "Epoch 21/30\n",
      "2557/2557 [==============================] - 7s 3ms/step - loss: 0.5398 - accuracy: 0.8261 - val_loss: 0.3174 - val_accuracy: 0.8970\n",
      "Epoch 22/30\n",
      "2557/2557 [==============================] - 7s 3ms/step - loss: 0.5329 - accuracy: 0.8297 - val_loss: 0.3115 - val_accuracy: 0.8982\n",
      "Epoch 23/30\n",
      "2557/2557 [==============================] - 7s 3ms/step - loss: 0.5211 - accuracy: 0.8338 - val_loss: 0.3127 - val_accuracy: 0.8982\n",
      "Epoch 24/30\n",
      "2557/2557 [==============================] - 7s 3ms/step - loss: 0.5161 - accuracy: 0.8347 - val_loss: 0.3040 - val_accuracy: 0.9024\n",
      "Epoch 25/30\n",
      "2557/2557 [==============================] - 7s 3ms/step - loss: 0.5042 - accuracy: 0.8371 - val_loss: 0.3013 - val_accuracy: 0.9002\n",
      "Epoch 26/30\n",
      "2557/2557 [==============================] - 7s 3ms/step - loss: 0.4967 - accuracy: 0.8401 - val_loss: 0.2958 - val_accuracy: 0.9008\n",
      "Epoch 27/30\n",
      "2557/2557 [==============================] - 7s 3ms/step - loss: 0.4919 - accuracy: 0.8414 - val_loss: 0.2943 - val_accuracy: 0.9026\n",
      "Epoch 28/30\n",
      "2557/2557 [==============================] - 7s 3ms/step - loss: 0.4849 - accuracy: 0.8432 - val_loss: 0.2911 - val_accuracy: 0.9058\n",
      "Epoch 29/30\n",
      "2557/2557 [==============================] - 7s 3ms/step - loss: 0.4757 - accuracy: 0.8467 - val_loss: 0.2833 - val_accuracy: 0.9062\n",
      "Epoch 30/30\n",
      "2557/2557 [==============================] - 7s 3ms/step - loss: 0.4672 - accuracy: 0.8467 - val_loss: 0.2800 - val_accuracy: 0.9096\n"
     ]
    }
   ],
   "source": [
    "history_drop = NN_drop.fit(X_train, y_train, epochs = 30,\n",
    "                    validation_data=(X_valid, y_valid))\n",
    "                  "
   ]
  },
  {
   "cell_type": "code",
   "execution_count": 107,
   "id": "ff20bb93-1fb4-4733-bb6f-b155e3e11fb1",
   "metadata": {
    "tags": []
   },
   "outputs": [
    {
     "name": "stdout",
     "output_type": "stream",
     "text": [
      "63/63 [==============================] - 0s 1ms/step - loss: 0.3072 - accuracy: 0.8960\n",
      "Test Loss: 0.3071887195110321\n",
      "Test Accuracy: 0.8960000276565552\n"
     ]
    }
   ],
   "source": [
    "test_loss, test_accuracy = NN_drop.evaluate(X_test, y_test)\n",
    "print(\"Test Loss:\", test_loss)\n",
    "print(\"Test Accuracy:\", test_accuracy)"
   ]
  },
  {
   "cell_type": "code",
   "execution_count": 169,
   "id": "aec9b69e-2e88-4a33-bbad-0e900a086313",
   "metadata": {
    "tags": []
   },
   "outputs": [
    {
     "data": {
      "image/png": "[encoded data removed]",
      "text/plain": [
       "<Figure size 800x500 with 1 Axes>"
      ]
     },
     "metadata": {},
     "output_type": "display_data"
    }
   ],
   "source": [
    "pd.DataFrame(history_drop.history).plot(figsize=(8, 5))\n",
    "plt.grid(True)\n",
    "plt.gca().set_ylim(0, 1)\n",
    "plt.show()"
   ]
  },
  {
   "cell_type": "markdown",
   "id": "a176ee66-5e01-4114-9f4c-be30e71cf0a6",
   "metadata": {},
   "source": [
    "# Reti Convoluzionali\n",
    "Come sappiamo esse sono utilizzate proprio per andare a lavorare con dati che hanno una struttura bidimensionale e vedremo come i risultati di tali reti sono migliori rispetto alle reti completamente connesse."
   ]
  },
  {
   "cell_type": "code",
   "execution_count": 6,
   "id": "aa45f47f-283a-45f2-ba8a-297f2fa0ed35",
   "metadata": {
    "tags": []
   },
   "outputs": [],
   "source": [
    "X_train2 = X_train.reshape(-1, 28, 28, 1) # single channel\n",
    "X_valid2 = X_valid.reshape(-1, 28, 28, 1)\n",
    "X_test2 = X_test.reshape(-1,28,28,1)"
   ]
  },
  {
   "cell_type": "markdown",
   "id": "cbb12001-952a-4e9e-a0a8-6195d7d61059",
   "metadata": {},
   "source": [
    "Iniziamo con il testare la LeNet-5."
   ]
  },
  {
   "cell_type": "markdown",
   "id": "db8a9fb7-dc7e-43ee-ae13-97600d525df5",
   "metadata": {},
   "source": [
    "## LeNet-5"
   ]
  },
  {
   "cell_type": "code",
   "execution_count": 7,
   "id": "914879e3-acb7-4e4f-9bc6-fa14cc698918",
   "metadata": {
    "tags": []
   },
   "outputs": [
    {
     "name": "stdout",
     "output_type": "stream",
     "text": [
      "WARNING:tensorflow:From C:\\Users\\lerio\\anaconda3\\Lib\\site-packages\\keras\\src\\backend.py:873: The name tf.get_default_graph is deprecated. Please use tf.compat.v1.get_default_graph instead.\n",
      "\n",
      "WARNING:tensorflow:From C:\\Users\\lerio\\anaconda3\\Lib\\site-packages\\keras\\src\\optimizers\\__init__.py:309: The name tf.train.Optimizer is deprecated. Please use tf.compat.v1.train.Optimizer instead.\n",
      "\n",
      "Model: \"sequential\"\n",
      "_________________________________________________________________\n",
      " Layer (type)                Output Shape              Param #   \n",
      "=================================================================\n",
      " conv2d (Conv2D)             (None, 28, 28, 6)         156       \n",
      "                                                                 \n",
      " average_pooling2d (Average  (None, 14, 14, 6)         0         \n",
      " Pooling2D)                                                      \n",
      "                                                                 \n",
      " conv2d_1 (Conv2D)           (None, 10, 10, 16)        2416      \n",
      "                                                                 \n",
      " average_pooling2d_1 (Avera  (None, 5, 5, 16)          0         \n",
      " gePooling2D)                                                    \n",
      "                                                                 \n",
      " flatten (Flatten)           (None, 400)               0         \n",
      "                                                                 \n",
      " dense (Dense)               (None, 120)               48120     \n",
      "                                                                 \n",
      " dense_1 (Dense)             (None, 84)                10164     \n",
      "                                                                 \n",
      " dense_2 (Dense)             (None, 26)                2210      \n",
      "                                                                 \n",
      "=================================================================\n",
      "Total params: 63066 (246.35 KB)\n",
      "Trainable params: 63066 (246.35 KB)\n",
      "Non-trainable params: 0 (0.00 Byte)\n",
      "_________________________________________________________________\n"
     ]
    }
   ],
   "source": [
    "lenet = tf.keras.models.Sequential([\n",
    "            tf.keras.layers.Conv2D(filters=6, kernel_size=5, activation='sigmoid', padding='same', input_shape=(28, 28, 1)),\n",
    "            tf.keras.layers.AvgPool2D(pool_size=2, strides=2),\n",
    "            tf.keras.layers.Conv2D(filters=16, kernel_size=5,activation='sigmoid'),\n",
    "            tf.keras.layers.AvgPool2D(pool_size=2, strides=2),\n",
    "            tf.keras.layers.Flatten(),\n",
    "            tf.keras.layers.Dense(120, activation='sigmoid'),\n",
    "            tf.keras.layers.Dense(84, activation='sigmoid'),\n",
    "            tf.keras.layers.Dense(26, activation=\"softmax\")])\n",
    "\n",
    "\n",
    "lenet.compile(loss=\"sparse_categorical_crossentropy\",\n",
    "              optimizer=\"adam\",\n",
    "              metrics=[\"accuracy\"])\n",
    "\n",
    "lenet.summary()"
   ]
  },
  {
   "cell_type": "code",
   "execution_count": 97,
   "id": "476ca1fb-5872-4f94-9a89-8028a60c1df4",
   "metadata": {
    "tags": []
   },
   "outputs": [
    {
     "name": "stdout",
     "output_type": "stream",
     "text": [
      "Epoch 1/30\n",
      "2557/2557 [==============================] - 9s 3ms/step - loss: 0.0682 - accuracy: 0.9729 - val_loss: 0.2419 - val_accuracy: 0.9316\n",
      "Epoch 2/30\n",
      "2557/2557 [==============================] - 8s 3ms/step - loss: 0.0670 - accuracy: 0.9737 - val_loss: 0.2467 - val_accuracy: 0.9334\n",
      "Epoch 3/30\n",
      "2557/2557 [==============================] - 8s 3ms/step - loss: 0.0653 - accuracy: 0.9738 - val_loss: 0.2524 - val_accuracy: 0.9324\n",
      "Epoch 4/30\n",
      "2557/2557 [==============================] - 8s 3ms/step - loss: 0.0642 - accuracy: 0.9745 - val_loss: 0.2606 - val_accuracy: 0.9320\n",
      "Epoch 5/30\n",
      "2557/2557 [==============================] - 8s 3ms/step - loss: 0.0625 - accuracy: 0.9751 - val_loss: 0.2705 - val_accuracy: 0.9238\n",
      "Epoch 6/30\n",
      "2557/2557 [==============================] - 8s 3ms/step - loss: 0.0620 - accuracy: 0.9748 - val_loss: 0.2516 - val_accuracy: 0.9354\n",
      "Epoch 7/30\n",
      "2557/2557 [==============================] - 9s 3ms/step - loss: 0.0605 - accuracy: 0.9750 - val_loss: 0.2588 - val_accuracy: 0.9326\n",
      "Epoch 8/30\n",
      "2557/2557 [==============================] - 8s 3ms/step - loss: 0.0593 - accuracy: 0.9760 - val_loss: 0.2693 - val_accuracy: 0.9286\n",
      "Epoch 9/30\n",
      "2557/2557 [==============================] - 9s 3ms/step - loss: 0.0595 - accuracy: 0.9755 - val_loss: 0.2556 - val_accuracy: 0.9324\n",
      "Epoch 10/30\n",
      "2557/2557 [==============================] - 8s 3ms/step - loss: 0.0578 - accuracy: 0.9764 - val_loss: 0.2682 - val_accuracy: 0.9296\n",
      "Epoch 11/30\n",
      "2557/2557 [==============================] - 8s 3ms/step - loss: 0.0566 - accuracy: 0.9764 - val_loss: 0.2693 - val_accuracy: 0.9316\n"
     ]
    }
   ],
   "source": [
    "history_lenet = lenet.fit(X_train2, y_train, epochs=30,\n",
    "                    validation_data=(X_valid2, y_valid),\n",
    "                   callbacks=[keras.callbacks.EarlyStopping(patience=10)])"
   ]
  },
  {
   "cell_type": "code",
   "execution_count": 98,
   "id": "41f985f7-a342-4441-b437-08111688609d",
   "metadata": {
    "tags": []
   },
   "outputs": [
    {
     "name": "stdout",
     "output_type": "stream",
     "text": [
      "63/63 [==============================] - 0s 2ms/step - loss: 0.2833 - accuracy: 0.9280\n",
      "Test Loss: 0.2832984924316406\n",
      "Test Accuracy: 0.9279999732971191\n"
     ]
    }
   ],
   "source": [
    "test_loss, test_accuracy = lenet.evaluate(X_test2, y_test)\n",
    "print(\"Test Loss:\", test_loss)\n",
    "print(\"Test Accuracy:\", test_accuracy)"
   ]
  },
  {
   "cell_type": "code",
   "execution_count": 87,
   "id": "4ff225f9-5168-4a5d-b8d1-f873ea1b90f9",
   "metadata": {
    "tags": []
   },
   "outputs": [
    {
     "data": {
      "image/png": "[encoded data removed]",
      "text/plain": [
       "<Figure size 800x500 with 1 Axes>"
      ]
     },
     "metadata": {},
     "output_type": "display_data"
    }
   ],
   "source": [
    "pd.DataFrame(history_lenet.history).plot(figsize=(8, 5))\n",
    "plt.grid(True)\n",
    "plt.gca().set_ylim(0, 1)\n",
    "plt.show()"
   ]
  },
  {
   "cell_type": "markdown",
   "id": "bf5f13e0-c9c4-449e-b86b-290202ca2883",
   "metadata": {},
   "source": [
    "Ora proviamo a variare il numero e le dimensioni del kerneel negli strati convoluzionali, inoltre proviamo a sostituire la sigmoide con la relu"
   ]
  },
  {
   "cell_type": "code",
   "execution_count": 99,
   "id": "85299c65-195e-484a-8a4e-e62bd101e6b6",
   "metadata": {},
   "outputs": [
    {
     "name": "stdout",
     "output_type": "stream",
     "text": [
      "Model: \"sequential_47\"\n",
      "_________________________________________________________________\n",
      " Layer (type)                Output Shape              Param #   \n",
      "=================================================================\n",
      " conv2d_105 (Conv2D)         (None, 28, 28, 4)         200       \n",
      "                                                                 \n",
      " average_pooling2d_69 (Aver  (None, 14, 14, 4)         0         \n",
      " agePooling2D)                                                   \n",
      "                                                                 \n",
      " conv2d_106 (Conv2D)         (None, 14, 14, 12)        1212      \n",
      "                                                                 \n",
      " average_pooling2d_70 (Aver  (None, 7, 7, 12)          0         \n",
      " agePooling2D)                                                   \n",
      "                                                                 \n",
      " flatten_47 (Flatten)        (None, 588)               0         \n",
      "                                                                 \n",
      " dense_145 (Dense)           (None, 120)               70680     \n",
      "                                                                 \n",
      " dense_146 (Dense)           (None, 84)                10164     \n",
      "                                                                 \n",
      " dense_147 (Dense)           (None, 26)                2210      \n",
      "                                                                 \n",
      "=================================================================\n",
      "Total params: 84466 (329.95 KB)\n",
      "Trainable params: 84466 (329.95 KB)\n",
      "Non-trainable params: 0 (0.00 Byte)\n",
      "_________________________________________________________________\n"
     ]
    }
   ],
   "source": [
    "CNN = tf.keras.models.Sequential([\n",
    "            tf.keras.layers.Conv2D(filters=4, kernel_size=7, activation='relu', padding='same', input_shape=(28, 28, 1)),\n",
    "            tf.keras.layers.AvgPool2D(pool_size=2, strides=2),\n",
    "            tf.keras.layers.Conv2D(filters=12, kernel_size=5,activation='relu',padding = 'same'),\n",
    "            tf.keras.layers.AvgPool2D(pool_size=2, strides=2),\n",
    "            tf.keras.layers.Flatten(),\n",
    "            tf.keras.layers.Dense(120, activation='relu'),\n",
    "            tf.keras.layers.Dense(84, activation='relu'),\n",
    "            tf.keras.layers.Dense(26, activation=\"softmax\")])\n",
    "\n",
    "\n",
    "CNN.compile(loss=\"sparse_categorical_crossentropy\",\n",
    "              optimizer=\"adam\",\n",
    "              metrics=[\"accuracy\"])\n",
    "\n",
    "CNN.summary()"
   ]
  },
  {
   "cell_type": "code",
   "execution_count": 100,
   "id": "0fedd69b-8724-4340-9e3e-05ba967f356e",
   "metadata": {
    "tags": []
   },
   "outputs": [
    {
     "name": "stdout",
     "output_type": "stream",
     "text": [
      "Epoch 1/30\n",
      "2557/2557 [==============================] - 9s 3ms/step - loss: 0.6273 - accuracy: 0.8045 - val_loss: 0.3295 - val_accuracy: 0.8918\n",
      "Epoch 2/30\n",
      "2557/2557 [==============================] - 8s 3ms/step - loss: 0.2945 - accuracy: 0.9020 - val_loss: 0.2762 - val_accuracy: 0.9090\n",
      "Epoch 3/30\n",
      "2557/2557 [==============================] - 8s 3ms/step - loss: 0.2383 - accuracy: 0.9189 - val_loss: 0.2306 - val_accuracy: 0.9232\n",
      "Epoch 4/30\n",
      "2557/2557 [==============================] - 8s 3ms/step - loss: 0.2087 - accuracy: 0.9285 - val_loss: 0.2205 - val_accuracy: 0.9290\n",
      "Epoch 5/30\n",
      "2557/2557 [==============================] - 8s 3ms/step - loss: 0.1870 - accuracy: 0.9335 - val_loss: 0.2278 - val_accuracy: 0.9216\n",
      "Epoch 6/30\n",
      "2557/2557 [==============================] - 8s 3ms/step - loss: 0.1711 - accuracy: 0.9381 - val_loss: 0.2125 - val_accuracy: 0.9290\n",
      "Epoch 7/30\n",
      "2557/2557 [==============================] - 9s 3ms/step - loss: 0.1552 - accuracy: 0.9437 - val_loss: 0.2169 - val_accuracy: 0.9308\n",
      "Epoch 8/30\n",
      "2557/2557 [==============================] - 8s 3ms/step - loss: 0.1446 - accuracy: 0.9463 - val_loss: 0.2338 - val_accuracy: 0.9266\n",
      "Epoch 9/30\n",
      "2557/2557 [==============================] - 8s 3ms/step - loss: 0.1351 - accuracy: 0.9490 - val_loss: 0.2047 - val_accuracy: 0.9348\n",
      "Epoch 10/30\n",
      "2557/2557 [==============================] - 8s 3ms/step - loss: 0.1252 - accuracy: 0.9525 - val_loss: 0.2149 - val_accuracy: 0.9316\n",
      "Epoch 11/30\n",
      "2557/2557 [==============================] - 8s 3ms/step - loss: 0.1193 - accuracy: 0.9544 - val_loss: 0.2250 - val_accuracy: 0.9328\n",
      "Epoch 12/30\n",
      "2557/2557 [==============================] - 8s 3ms/step - loss: 0.1107 - accuracy: 0.9565 - val_loss: 0.2209 - val_accuracy: 0.9360\n",
      "Epoch 13/30\n",
      "2557/2557 [==============================] - 8s 3ms/step - loss: 0.1046 - accuracy: 0.9585 - val_loss: 0.2238 - val_accuracy: 0.9324\n",
      "Epoch 14/30\n",
      "2557/2557 [==============================] - 8s 3ms/step - loss: 0.0999 - accuracy: 0.9597 - val_loss: 0.2481 - val_accuracy: 0.9276\n",
      "Epoch 15/30\n",
      "2557/2557 [==============================] - 9s 3ms/step - loss: 0.0972 - accuracy: 0.9610 - val_loss: 0.2688 - val_accuracy: 0.9248\n",
      "Epoch 16/30\n",
      "2557/2557 [==============================] - 9s 3ms/step - loss: 0.0927 - accuracy: 0.9627 - val_loss: 0.2768 - val_accuracy: 0.9302\n",
      "Epoch 17/30\n",
      "2557/2557 [==============================] - 9s 3ms/step - loss: 0.0884 - accuracy: 0.9636 - val_loss: 0.2743 - val_accuracy: 0.9302\n",
      "Epoch 18/30\n",
      "2557/2557 [==============================] - 9s 3ms/step - loss: 0.0848 - accuracy: 0.9651 - val_loss: 0.2740 - val_accuracy: 0.9302\n",
      "Epoch 19/30\n",
      "2557/2557 [==============================] - 9s 4ms/step - loss: 0.0826 - accuracy: 0.9660 - val_loss: 0.2939 - val_accuracy: 0.9284\n"
     ]
    }
   ],
   "source": [
    "history_c = CNN.fit(X_train2, y_train, epochs=30,\n",
    "                    validation_data=(X_valid2, y_valid),\n",
    "                   callbacks=[keras.callbacks.EarlyStopping(patience=10)])"
   ]
  },
  {
   "cell_type": "code",
   "execution_count": 105,
   "id": "88e4a2fb-408a-417c-8b41-224df28932a5",
   "metadata": {
    "tags": []
   },
   "outputs": [
    {
     "name": "stdout",
     "output_type": "stream",
     "text": [
      "63/63 [==============================] - 0s 2ms/step - loss: 0.2803 - accuracy: 0.9290\n",
      "Test Loss: 0.28025367856025696\n",
      "Test Accuracy: 0.9290000200271606\n"
     ]
    }
   ],
   "source": [
    "test_loss, test_accuracy = CNN.evaluate(X_test2, y_test)\n",
    "print(\"Test Loss:\", test_loss)\n",
    "print(\"Test Accuracy:\", test_accuracy)"
   ]
  },
  {
   "cell_type": "code",
   "execution_count": 102,
   "id": "f671a869-6143-48e4-bdac-0351c0160f08",
   "metadata": {
    "tags": []
   },
   "outputs": [
    {
     "data": {
      "image/png": "[encoded data removed]",
      "text/plain": [
       "<Figure size 800x500 with 1 Axes>"
      ]
     },
     "metadata": {},
     "output_type": "display_data"
    }
   ],
   "source": [
    "pd.DataFrame(history_c.history).plot(figsize=(8, 5))\n",
    "plt.grid(True)\n",
    "plt.gca().set_ylim(0, 1)\n",
    "plt.show()"
   ]
  },
  {
   "cell_type": "markdown",
   "id": "801f5858-50ba-422a-b016-d2a3bec73990",
   "metadata": {},
   "source": [
    "Ora proviamo ad a cambiare il pooling con un max Pooling"
   ]
  },
  {
   "cell_type": "code",
   "execution_count": 103,
   "id": "ee06b631-8626-41ee-98ce-c12afd06b7c8",
   "metadata": {
    "tags": []
   },
   "outputs": [
    {
     "name": "stdout",
     "output_type": "stream",
     "text": [
      "Model: \"sequential_48\"\n",
      "_________________________________________________________________\n",
      " Layer (type)                Output Shape              Param #   \n",
      "=================================================================\n",
      " conv2d_107 (Conv2D)         (None, 28, 28, 4)         200       \n",
      "                                                                 \n",
      " max_pooling2d_36 (MaxPooli  (None, 14, 14, 4)         0         \n",
      " ng2D)                                                           \n",
      "                                                                 \n",
      " conv2d_108 (Conv2D)         (None, 14, 14, 12)        1212      \n",
      "                                                                 \n",
      " max_pooling2d_37 (MaxPooli  (None, 7, 7, 12)          0         \n",
      " ng2D)                                                           \n",
      "                                                                 \n",
      " flatten_48 (Flatten)        (None, 588)               0         \n",
      "                                                                 \n",
      " dense_148 (Dense)           (None, 120)               70680     \n",
      "                                                                 \n",
      " dense_149 (Dense)           (None, 84)                10164     \n",
      "                                                                 \n",
      " dense_150 (Dense)           (None, 26)                2210      \n",
      "                                                                 \n",
      "=================================================================\n",
      "Total params: 84466 (329.95 KB)\n",
      "Trainable params: 84466 (329.95 KB)\n",
      "Non-trainable params: 0 (0.00 Byte)\n",
      "_________________________________________________________________\n"
     ]
    }
   ],
   "source": [
    "CNN1 = tf.keras.models.Sequential([\n",
    "            tf.keras.layers.Conv2D(filters=4, kernel_size=7, activation='relu', padding='same', input_shape=(28, 28, 1)),\n",
    "            tf.keras.layers.MaxPool2D(pool_size=2, strides=2),\n",
    "            tf.keras.layers.Conv2D(filters=12, kernel_size=5,activation='relu',padding = 'same'),\n",
    "            tf.keras.layers.MaxPool2D(pool_size=2, strides=2),\n",
    "            tf.keras.layers.Flatten(),\n",
    "            tf.keras.layers.Dense(120, activation='relu'),\n",
    "            tf.keras.layers.Dense(84, activation='relu'),\n",
    "            tf.keras.layers.Dense(26, activation=\"softmax\")])\n",
    "\n",
    "\n",
    "CNN1.compile(loss=\"sparse_categorical_crossentropy\",\n",
    "              optimizer=\"adam\",\n",
    "              metrics=[\"accuracy\"])\n",
    "\n",
    "CNN1.summary()"
   ]
  },
  {
   "cell_type": "code",
   "execution_count": 104,
   "id": "13e5b3a5-a314-4f3e-904f-f0b9383d8729",
   "metadata": {
    "tags": []
   },
   "outputs": [
    {
     "name": "stdout",
     "output_type": "stream",
     "text": [
      "Epoch 1/30\n",
      "2557/2557 [==============================] - 9s 3ms/step - loss: 0.5987 - accuracy: 0.8133 - val_loss: 0.3319 - val_accuracy: 0.8886\n",
      "Epoch 2/30\n",
      "2557/2557 [==============================] - 8s 3ms/step - loss: 0.2997 - accuracy: 0.8997 - val_loss: 0.2783 - val_accuracy: 0.9074\n",
      "Epoch 3/30\n",
      "2557/2557 [==============================] - 8s 3ms/step - loss: 0.2486 - accuracy: 0.9156 - val_loss: 0.2361 - val_accuracy: 0.9204\n",
      "Epoch 4/30\n",
      "2557/2557 [==============================] - 8s 3ms/step - loss: 0.2181 - accuracy: 0.9243 - val_loss: 0.2288 - val_accuracy: 0.9270\n",
      "Epoch 5/30\n",
      "2557/2557 [==============================] - 8s 3ms/step - loss: 0.1978 - accuracy: 0.9301 - val_loss: 0.2504 - val_accuracy: 0.9188\n",
      "Epoch 6/30\n",
      "2557/2557 [==============================] - 8s 3ms/step - loss: 0.1803 - accuracy: 0.9356 - val_loss: 0.2291 - val_accuracy: 0.9286\n",
      "Epoch 7/30\n",
      "2557/2557 [==============================] - 8s 3ms/step - loss: 0.1678 - accuracy: 0.9401 - val_loss: 0.2238 - val_accuracy: 0.9354\n",
      "Epoch 8/30\n",
      "2557/2557 [==============================] - 8s 3ms/step - loss: 0.1553 - accuracy: 0.9432 - val_loss: 0.2466 - val_accuracy: 0.9248\n",
      "Epoch 9/30\n",
      "2557/2557 [==============================] - 8s 3ms/step - loss: 0.1451 - accuracy: 0.9465 - val_loss: 0.2381 - val_accuracy: 0.9296\n",
      "Epoch 10/30\n",
      "2557/2557 [==============================] - 8s 3ms/step - loss: 0.1372 - accuracy: 0.9485 - val_loss: 0.2399 - val_accuracy: 0.9292\n",
      "Epoch 11/30\n",
      "2557/2557 [==============================] - 8s 3ms/step - loss: 0.1283 - accuracy: 0.9513 - val_loss: 0.2631 - val_accuracy: 0.9250\n",
      "Epoch 12/30\n",
      "2557/2557 [==============================] - 8s 3ms/step - loss: 0.1230 - accuracy: 0.9532 - val_loss: 0.2581 - val_accuracy: 0.9258\n",
      "Epoch 13/30\n",
      "2557/2557 [==============================] - 9s 3ms/step - loss: 0.1140 - accuracy: 0.9558 - val_loss: 0.2605 - val_accuracy: 0.9306\n",
      "Epoch 14/30\n",
      "2557/2557 [==============================] - 9s 4ms/step - loss: 0.1109 - accuracy: 0.9565 - val_loss: 0.2580 - val_accuracy: 0.9254\n",
      "Epoch 15/30\n",
      "2557/2557 [==============================] - 9s 4ms/step - loss: 0.1060 - accuracy: 0.9579 - val_loss: 0.2819 - val_accuracy: 0.9316\n",
      "Epoch 16/30\n",
      "2557/2557 [==============================] - 9s 4ms/step - loss: 0.1012 - accuracy: 0.9601 - val_loss: 0.2819 - val_accuracy: 0.9262\n",
      "Epoch 17/30\n",
      "2557/2557 [==============================] - 9s 3ms/step - loss: 0.1002 - accuracy: 0.9597 - val_loss: 0.2903 - val_accuracy: 0.9272\n"
     ]
    }
   ],
   "source": [
    "history_c1 = CNN1.fit(X_train2, y_train, epochs=30,\n",
    "                    validation_data=(X_valid2, y_valid),\n",
    "                   callbacks=[keras.callbacks.EarlyStopping(patience=10)])"
   ]
  },
  {
   "cell_type": "code",
   "execution_count": 106,
   "id": "dbd34e9a-b49a-4cfd-bfff-e9448eed9b74",
   "metadata": {
    "tags": []
   },
   "outputs": [
    {
     "name": "stdout",
     "output_type": "stream",
     "text": [
      "63/63 [==============================] - 0s 2ms/step - loss: 0.3019 - accuracy: 0.9140\n",
      "Test Loss: 0.30188876390457153\n",
      "Test Accuracy: 0.9139999747276306\n"
     ]
    }
   ],
   "source": [
    "test_loss, test_accuracy = CNN1.evaluate(X_test2, y_test)\n",
    "print(\"Test Loss:\", test_loss)\n",
    "print(\"Test Accuracy:\", test_accuracy)"
   ]
  },
  {
   "cell_type": "markdown",
   "id": "2b2775ef-d54c-4d57-b680-27477a8cded8",
   "metadata": {},
   "source": [
    "Notiamo come i risultati sono molto simili, allora proviamo ad appesantire la rete. Notare che se si aggiungono troppi strati convoluzionali andremo a perdere sempre di più le informazioni dell'imagine, andando a passare al blocco denso poche informazioni!\n"
   ]
  },
  {
   "cell_type": "code",
   "execution_count": 107,
   "id": "b37bfcca-2ff5-40ec-8438-2b7b0cb2d768",
   "metadata": {
    "tags": []
   },
   "outputs": [
    {
     "name": "stdout",
     "output_type": "stream",
     "text": [
      "Model: \"sequential_49\"\n",
      "_________________________________________________________________\n",
      " Layer (type)                Output Shape              Param #   \n",
      "=================================================================\n",
      " conv2d_109 (Conv2D)         (None, 28, 28, 12)        312       \n",
      "                                                                 \n",
      " average_pooling2d_71 (Aver  (None, 14, 14, 12)        0         \n",
      " agePooling2D)                                                   \n",
      "                                                                 \n",
      " conv2d_110 (Conv2D)         (None, 14, 14, 18)        1962      \n",
      "                                                                 \n",
      " average_pooling2d_72 (Aver  (None, 7, 7, 18)          0         \n",
      " agePooling2D)                                                   \n",
      "                                                                 \n",
      " conv2d_111 (Conv2D)         (None, 7, 7, 24)          3912      \n",
      "                                                                 \n",
      " average_pooling2d_73 (Aver  (None, 3, 3, 24)          0         \n",
      " agePooling2D)                                                   \n",
      "                                                                 \n",
      " flatten_49 (Flatten)        (None, 216)               0         \n",
      "                                                                 \n",
      " dense_151 (Dense)           (None, 120)               26040     \n",
      "                                                                 \n",
      " dense_152 (Dense)           (None, 84)                10164     \n",
      "                                                                 \n",
      " dense_153 (Dense)           (None, 26)                2210      \n",
      "                                                                 \n",
      "=================================================================\n",
      "Total params: 44600 (174.22 KB)\n",
      "Trainable params: 44600 (174.22 KB)\n",
      "Non-trainable params: 0 (0.00 Byte)\n",
      "_________________________________________________________________\n"
     ]
    }
   ],
   "source": [
    "CNN2 = tf.keras.models.Sequential([\n",
    "            tf.keras.layers.Conv2D(filters=12, kernel_size=5, activation='relu', padding='same', input_shape=(28, 28, 1)),\n",
    "            tf.keras.layers.AvgPool2D(pool_size=2, strides=2),\n",
    "            tf.keras.layers.Conv2D(filters=18, kernel_size=3,activation='relu',padding = 'same'),\n",
    "            tf.keras.layers.AvgPool2D(pool_size=2, strides=2),\n",
    "            tf.keras.layers.Conv2D(filters=24, kernel_size=3,activation='relu',padding = 'same'),\n",
    "            tf.keras.layers.AvgPool2D(pool_size=2, strides=2),\n",
    "            tf.keras.layers.Flatten(),\n",
    "            tf.keras.layers.Dense(120, activation='relu'),\n",
    "            tf.keras.layers.Dense(84, activation='relu'),\n",
    "            tf.keras.layers.Dense(26, activation=\"softmax\")])\n",
    "\n",
    "\n",
    "CNN2.compile(loss=\"sparse_categorical_crossentropy\",\n",
    "              optimizer=\"adam\",\n",
    "              metrics=[\"accuracy\"])\n",
    "\n",
    "CNN2.summary()\n"
   ]
  },
  {
   "cell_type": "code",
   "execution_count": 108,
   "id": "3f7e920c-bced-4ef8-b879-da734d43ed31",
   "metadata": {
    "tags": []
   },
   "outputs": [
    {
     "name": "stdout",
     "output_type": "stream",
     "text": [
      "Epoch 1/30\n",
      "2557/2557 [==============================] - 11s 4ms/step - loss: 0.7074 - accuracy: 0.7797 - val_loss: 0.3500 - val_accuracy: 0.8878\n",
      "Epoch 2/30\n",
      "2557/2557 [==============================] - 9s 4ms/step - loss: 0.3254 - accuracy: 0.8929 - val_loss: 0.2886 - val_accuracy: 0.9030\n",
      "Epoch 3/30\n",
      "2557/2557 [==============================] - 9s 4ms/step - loss: 0.2598 - accuracy: 0.9120 - val_loss: 0.2373 - val_accuracy: 0.9206\n",
      "Epoch 4/30\n",
      "2557/2557 [==============================] - 9s 4ms/step - loss: 0.2268 - accuracy: 0.9232 - val_loss: 0.2079 - val_accuracy: 0.9276\n",
      "Epoch 5/30\n",
      "2557/2557 [==============================] - 10s 4ms/step - loss: 0.2060 - accuracy: 0.9295 - val_loss: 0.2140 - val_accuracy: 0.9282\n",
      "Epoch 6/30\n",
      "2557/2557 [==============================] - 10s 4ms/step - loss: 0.1889 - accuracy: 0.9340 - val_loss: 0.2186 - val_accuracy: 0.9272\n",
      "Epoch 7/30\n",
      "2557/2557 [==============================] - 10s 4ms/step - loss: 0.1763 - accuracy: 0.9371 - val_loss: 0.1996 - val_accuracy: 0.9338\n",
      "Epoch 8/30\n",
      "2557/2557 [==============================] - 10s 4ms/step - loss: 0.1646 - accuracy: 0.9410 - val_loss: 0.2018 - val_accuracy: 0.9332\n",
      "Epoch 9/30\n",
      "2557/2557 [==============================] - 10s 4ms/step - loss: 0.1556 - accuracy: 0.9434 - val_loss: 0.1813 - val_accuracy: 0.9388\n",
      "Epoch 10/30\n",
      "2557/2557 [==============================] - 11s 4ms/step - loss: 0.1478 - accuracy: 0.9459 - val_loss: 0.1798 - val_accuracy: 0.9392\n",
      "Epoch 11/30\n",
      "2557/2557 [==============================] - 11s 4ms/step - loss: 0.1413 - accuracy: 0.9481 - val_loss: 0.2033 - val_accuracy: 0.9316\n",
      "Epoch 12/30\n",
      "2557/2557 [==============================] - 10s 4ms/step - loss: 0.1336 - accuracy: 0.9499 - val_loss: 0.2054 - val_accuracy: 0.9334\n",
      "Epoch 13/30\n",
      "2557/2557 [==============================] - 11s 4ms/step - loss: 0.1270 - accuracy: 0.9520 - val_loss: 0.1889 - val_accuracy: 0.9376\n",
      "Epoch 14/30\n",
      "2557/2557 [==============================] - 11s 4ms/step - loss: 0.1233 - accuracy: 0.9523 - val_loss: 0.2007 - val_accuracy: 0.9338\n",
      "Epoch 15/30\n",
      "2557/2557 [==============================] - 11s 4ms/step - loss: 0.1174 - accuracy: 0.9544 - val_loss: 0.2087 - val_accuracy: 0.9380\n",
      "Epoch 16/30\n",
      "2557/2557 [==============================] - 11s 4ms/step - loss: 0.1138 - accuracy: 0.9552 - val_loss: 0.1960 - val_accuracy: 0.9386\n",
      "Epoch 17/30\n",
      "2557/2557 [==============================] - 11s 4ms/step - loss: 0.1093 - accuracy: 0.9570 - val_loss: 0.2154 - val_accuracy: 0.9362\n",
      "Epoch 18/30\n",
      "2557/2557 [==============================] - 12s 5ms/step - loss: 0.1054 - accuracy: 0.9586 - val_loss: 0.2167 - val_accuracy: 0.9386\n",
      "Epoch 19/30\n",
      "2557/2557 [==============================] - 12s 5ms/step - loss: 0.1029 - accuracy: 0.9593 - val_loss: 0.2262 - val_accuracy: 0.9314\n",
      "Epoch 20/30\n",
      "2557/2557 [==============================] - 12s 5ms/step - loss: 0.1005 - accuracy: 0.9598 - val_loss: 0.2188 - val_accuracy: 0.9346\n"
     ]
    }
   ],
   "source": [
    "history_c2 = CNN2.fit(X_train2, y_train, epochs=30,\n",
    "                    validation_data=(X_valid2, y_valid),\n",
    "                   callbacks=[keras.callbacks.EarlyStopping(patience=10)])"
   ]
  },
  {
   "cell_type": "code",
   "execution_count": 109,
   "id": "2753e77e-a1f6-4074-bdc5-2185cfa6117c",
   "metadata": {
    "tags": []
   },
   "outputs": [
    {
     "name": "stdout",
     "output_type": "stream",
     "text": [
      "63/63 [==============================] - 0s 2ms/step - loss: 0.2257 - accuracy: 0.9295\n",
      "Test Loss: 0.22568105161190033\n",
      "Test Accuracy: 0.9294999837875366\n"
     ]
    }
   ],
   "source": [
    "test_loss, test_accuracy = CNN2.evaluate(X_test2, y_test)\n",
    "print(\"Test Loss:\", test_loss)\n",
    "print(\"Test Accuracy:\", test_accuracy)"
   ]
  },
  {
   "cell_type": "markdown",
   "id": "2bdcb218-0ef7-401d-b4ba-c4df18bb9b6f",
   "metadata": {},
   "source": [
    "Proviamo solo a mettere uno strato convoluzionale."
   ]
  },
  {
   "cell_type": "code",
   "execution_count": 110,
   "id": "38f818f7-e7c2-4e25-af3e-e1369fb8198b",
   "metadata": {
    "tags": []
   },
   "outputs": [
    {
     "name": "stdout",
     "output_type": "stream",
     "text": [
      "Model: \"sequential_50\"\n",
      "_________________________________________________________________\n",
      " Layer (type)                Output Shape              Param #   \n",
      "=================================================================\n",
      " conv2d_112 (Conv2D)         (None, 28, 28, 10)        260       \n",
      "                                                                 \n",
      " average_pooling2d_74 (Aver  (None, 9, 9, 10)          0         \n",
      " agePooling2D)                                                   \n",
      "                                                                 \n",
      " flatten_50 (Flatten)        (None, 810)               0         \n",
      "                                                                 \n",
      " dense_154 (Dense)           (None, 400)               324400    \n",
      "                                                                 \n",
      " dense_155 (Dense)           (None, 160)               64160     \n",
      "                                                                 \n",
      " dense_156 (Dense)           (None, 84)                13524     \n",
      "                                                                 \n",
      " dense_157 (Dense)           (None, 26)                2210      \n",
      "                                                                 \n",
      "=================================================================\n",
      "Total params: 404554 (1.54 MB)\n",
      "Trainable params: 404554 (1.54 MB)\n",
      "Non-trainable params: 0 (0.00 Byte)\n",
      "_________________________________________________________________\n"
     ]
    }
   ],
   "source": [
    "CNN3 = tf.keras.models.Sequential([\n",
    "            tf.keras.layers.Conv2D(filters=10, kernel_size=5, activation='relu', padding='same', input_shape=(28, 28, 1)),\n",
    "            tf.keras.layers.AvgPool2D(pool_size=3, strides=3),\n",
    "            tf.keras.layers.Flatten(),\n",
    "            tf.keras.layers.Dense(400, activation='relu'),\n",
    "            tf.keras.layers.Dense(160, activation='relu'),\n",
    "            tf.keras.layers.Dense(84, activation='relu'),\n",
    "            tf.keras.layers.Dense(26, activation=\"softmax\")])\n",
    "\n",
    "\n",
    "CNN3.compile(loss=\"sparse_categorical_crossentropy\",\n",
    "              optimizer=\"adam\",\n",
    "              metrics=[\"accuracy\"])\n",
    "\n",
    "CNN3.summary()"
   ]
  },
  {
   "cell_type": "code",
   "execution_count": 111,
   "id": "20079bdd-0c56-4e68-8f67-b1f2f9a5801f",
   "metadata": {
    "tags": []
   },
   "outputs": [
    {
     "name": "stdout",
     "output_type": "stream",
     "text": [
      "Epoch 1/30\n",
      "2557/2557 [==============================] - 9s 3ms/step - loss: 0.5806 - accuracy: 0.8177 - val_loss: 0.3123 - val_accuracy: 0.8960\n",
      "Epoch 2/30\n",
      "2557/2557 [==============================] - 8s 3ms/step - loss: 0.2819 - accuracy: 0.9051 - val_loss: 0.2789 - val_accuracy: 0.9062\n",
      "Epoch 3/30\n",
      "2557/2557 [==============================] - 8s 3ms/step - loss: 0.2224 - accuracy: 0.9236 - val_loss: 0.2354 - val_accuracy: 0.9220\n",
      "Epoch 4/30\n",
      "2557/2557 [==============================] - 8s 3ms/step - loss: 0.1885 - accuracy: 0.9339 - val_loss: 0.2323 - val_accuracy: 0.9240\n",
      "Epoch 5/30\n",
      "2557/2557 [==============================] - 8s 3ms/step - loss: 0.1639 - accuracy: 0.9409 - val_loss: 0.2372 - val_accuracy: 0.9212\n",
      "Epoch 6/30\n",
      "2557/2557 [==============================] - 9s 3ms/step - loss: 0.1433 - accuracy: 0.9468 - val_loss: 0.2285 - val_accuracy: 0.9298\n",
      "Epoch 7/30\n",
      "2557/2557 [==============================] - 8s 3ms/step - loss: 0.1273 - accuracy: 0.9524 - val_loss: 0.2432 - val_accuracy: 0.9260\n",
      "Epoch 8/30\n",
      "2557/2557 [==============================] - 8s 3ms/step - loss: 0.1154 - accuracy: 0.9558 - val_loss: 0.2564 - val_accuracy: 0.9252\n",
      "Epoch 9/30\n",
      "2557/2557 [==============================] - 8s 3ms/step - loss: 0.1054 - accuracy: 0.9589 - val_loss: 0.2342 - val_accuracy: 0.9342\n",
      "Epoch 10/30\n",
      "2557/2557 [==============================] - 8s 3ms/step - loss: 0.0988 - accuracy: 0.9616 - val_loss: 0.2634 - val_accuracy: 0.9260\n",
      "Epoch 11/30\n",
      "2557/2557 [==============================] - 8s 3ms/step - loss: 0.0933 - accuracy: 0.9634 - val_loss: 0.2830 - val_accuracy: 0.9270\n",
      "Epoch 12/30\n",
      "2557/2557 [==============================] - 9s 3ms/step - loss: 0.0867 - accuracy: 0.9646 - val_loss: 0.2798 - val_accuracy: 0.9270\n",
      "Epoch 13/30\n",
      "2557/2557 [==============================] - 9s 4ms/step - loss: 0.0814 - accuracy: 0.9672 - val_loss: 0.2956 - val_accuracy: 0.9308\n",
      "Epoch 14/30\n",
      "2557/2557 [==============================] - 9s 4ms/step - loss: 0.0787 - accuracy: 0.9672 - val_loss: 0.2745 - val_accuracy: 0.9298\n",
      "Epoch 15/30\n",
      "2557/2557 [==============================] - 9s 4ms/step - loss: 0.0725 - accuracy: 0.9693 - val_loss: 0.3255 - val_accuracy: 0.9324\n",
      "Epoch 16/30\n",
      "2557/2557 [==============================] - 9s 3ms/step - loss: 0.0711 - accuracy: 0.9708 - val_loss: 0.3220 - val_accuracy: 0.9278\n"
     ]
    }
   ],
   "source": [
    "history_c3 = CNN3.fit(X_train2, y_train, epochs=30,\n",
    "                    validation_data=(X_valid2, y_valid),\n",
    "                   callbacks=[keras.callbacks.EarlyStopping(patience=10)])"
   ]
  },
  {
   "cell_type": "code",
   "execution_count": 84,
   "id": "128b5a94-98fa-4744-bf79-c0f76160bb0a",
   "metadata": {
    "tags": []
   },
   "outputs": [
    {
     "name": "stdout",
     "output_type": "stream",
     "text": [
      "63/63 [==============================] - 0s 2ms/step - loss: 0.3007 - accuracy: 0.9250\n",
      "Test Loss: 0.30069729685783386\n",
      "Test Accuracy: 0.925000011920929\n"
     ]
    }
   ],
   "source": [
    "test_loss, test_accuracy = CNN3.evaluate(X_test2, y_test)\n",
    "print(\"Test Loss:\", test_loss)\n",
    "print(\"Test Accuracy:\", test_accuracy)"
   ]
  },
  {
   "cell_type": "markdown",
   "id": "1a86faa8-3f8d-4bfd-bd54-d10d11093369",
   "metadata": {},
   "source": [
    "Si noti come anche usare un solo strato convoluzionale porta a dei buoni risultati."
   ]
  }
 ],
 "metadata": {
  "kernelspec": {
   "display_name": "Python 3 (ipykernel)",
   "language": "python",
   "name": "python3"
  },
  "language_info": {
   "codemirror_mode": {
    "name": "ipython",
    "version": 3
   },
   "file_extension": ".py",
   "mimetype": "text/x-python",
   "name": "python",
   "nbconvert_exporter": "python",
   "pygments_lexer": "ipython3",
   "version": "3.11.5"
  }
 },
 "nbformat": 4,
 "nbformat_minor": 5
}
